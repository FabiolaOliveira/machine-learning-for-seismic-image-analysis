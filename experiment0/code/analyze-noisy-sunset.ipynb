{
 "cells": [
  {
   "cell_type": "markdown",
   "metadata": {},
   "source": [
    "## Let's have a look at the results of classified noisy images"
   ]
  },
  {
   "cell_type": "code",
   "execution_count": 3,
   "metadata": {
    "collapsed": true
   },
   "outputs": [],
   "source": [
    "import numpy as np\n",
    "import pymei as pm\n",
    "import matplotlib.pyplot as plt\n",
    "\n"
   ]
  },
  {
   "cell_type": "code",
   "execution_count": 4,
   "metadata": {
    "collapsed": false
   },
   "outputs": [],
   "source": [
    "import proj_utilities as proj"
   ]
  },
  {
   "cell_type": "code",
   "execution_count": 10,
   "metadata": {
    "collapsed": false
   },
   "outputs": [
    {
     "data": {
      "text/plain": [
       "<module 'gs_utilities' from '/home/giuliano/quake-n-code/utilities/gs_utilities.py'>"
      ]
     },
     "execution_count": 10,
     "metadata": {},
     "output_type": "execute_result"
    }
   ],
   "source": [
    "import imp\n",
    "imp.reload(gs)"
   ]
  },
  {
   "cell_type": "code",
   "execution_count": 5,
   "metadata": {
    "collapsed": false
   },
   "outputs": [
    {
     "name": "stdout",
     "output_type": "stream",
     "text": [
      "Using matplotlib backend: Qt5Agg\n"
     ]
    }
   ],
   "source": [
    "# makes sure a new window pops up\n",
    "%matplotlib"
   ]
  },
  {
   "cell_type": "markdown",
   "metadata": {},
   "source": [
    "Images were classified with the following command:"
   ]
  },
  {
   "cell_type": "code",
   "execution_count": 44,
   "metadata": {
    "collapsed": false
   },
   "outputs": [
    {
     "name": "stdout",
     "output_type": "stream",
     "text": [
      "3200+0 registros de entrada\r\n",
      "6+1 registros de saída\r\n",
      "3200 bytes (3,2 kB) copiados, 0,00240449 s, 1,3 MB/s\r\n"
     ]
    }
   ],
   "source": [
    "!segyread tape='../inputs/sunset-stacked.sgy' | segyclean | suaddnoise sn=0.25 > /tmp/example-noisy-sunset.su"
   ]
  },
  {
   "cell_type": "code",
   "execution_count": 45,
   "metadata": {
    "collapsed": false
   },
   "outputs": [],
   "source": [
    "traces_example, img_example = proj.load_seismic_image('/tmp/example-noisy-sunset.su')"
   ]
  },
  {
   "cell_type": "code",
   "execution_count": 46,
   "metadata": {
    "collapsed": false
   },
   "outputs": [
    {
     "data": {
      "text/plain": [
       "<matplotlib.text.Text at 0x7f4bc0042c18>"
      ]
     },
     "execution_count": 46,
     "metadata": {},
     "output_type": "execute_result"
    }
   ],
   "source": [
    "plt.imshow(img_example, aspect='auto', cmap='gray')\n",
    "plt.colorbar()\n",
    "plt.xlabel('Common Midpoint Index')\n",
    "plt.ylabel('Time Sample Index')\n",
    "plt.title('example of a noisy image')"
   ]
  },
  {
   "cell_type": "markdown",
   "metadata": {},
   "source": [
    "The experiment with the noisy images was done with a window size of 17x17\n"
   ]
  },
  {
   "cell_type": "markdown",
   "metadata": {},
   "source": [
    "## Let's compare the original image and the noisy image side by side"
   ]
  },
  {
   "cell_type": "code",
   "execution_count": 8,
   "metadata": {
    "collapsed": true
   },
   "outputs": [],
   "source": [
    "traces_original, img_original = proj.load_seismic_image('../inputs/sunset-stacked.sgy')"
   ]
  },
  {
   "cell_type": "code",
   "execution_count": 9,
   "metadata": {
    "collapsed": false
   },
   "outputs": [],
   "source": [
    "traces_sn_onehalf, img_sn_onehalf = proj.load_seismic_image('../inputs/noisy-sunset-images/noisy-sunset-sn=0.5.su')\n",
    "traces_sn_1, img_sn_1 = proj.load_seismic_image('../inputs/noisy-sunset-images/noisy-sunset-sn=1.su')\n",
    "traces_sn_2, img_sn_2 =proj.load_seismic_image('../inputs/noisy-sunset-images/noisy-sunset-sn=2.su')\n",
    "traces_sn_4, img_sn_4 = proj.load_seismic_image('../inputs/noisy-sunset-images/noisy-sunset-sn=4.su')\n",
    "traces_sn_8, img_sn_8 = proj.load_seismic_image('../inputs/noisy-sunset-images/noisy-sunset-sn=8.su')\n",
    "traces_sn_16, img_sn_16 = proj.load_seismic_image('../inputs/noisy-sunset-images/noisy-sunset-sn=16.su')"
   ]
  },
  {
   "cell_type": "code",
   "execution_count": 10,
   "metadata": {
    "collapsed": false
   },
   "outputs": [],
   "source": [
    "# we don't need no, alpha channel\n",
    "prob_map_sn_onehalf = plt.imread('../outputs/noisy-sunset-sn=0.5--2017-04-17--22-59-30.png')[:,:,:-1]\n",
    "prob_map_sn_1 = plt.imread('../outputs/noisy-sunset-sn=1--2017-04-17--23-00-15.png')[:,:,:-1]\n",
    "prob_map_sn_2 = plt.imread('../outputs/noisy-sunset-sn=2--2017-04-17--23-00-26.png')[:,:,:-1]\n",
    "prob_map_sn_4 = plt.imread('../outputs/noisy-sunset-sn=4--2017-04-17--23-00-36.png')[:,:,:-1]\n",
    "prob_map_sn_8 = plt.imread('../outputs/noisy-sunset-sn=8--2017-04-17--23-00-57.png')[:,:,:-1]\n",
    "prob_map_sn_16 = plt.imread('../outputs/noisy-sunset-sn=16--2017-04-17--23-01-09.png')[:,:,:-1]"
   ]
  },
  {
   "cell_type": "code",
   "execution_count": 35,
   "metadata": {
    "collapsed": false
   },
   "outputs": [
    {
     "data": {
      "text/plain": [
       "<matplotlib.text.Text at 0x7f4bc13550b8>"
      ]
     },
     "execution_count": 35,
     "metadata": {},
     "output_type": "execute_result"
    }
   ],
   "source": [
    "sn_ratio = 0.5\n",
    "\n",
    "fig = plt.figure()\n",
    "fig.suptitle('Figure 1: original SGY image\\n' +\n",
    "             'Figure 2: original image with normally distributed noise (signal to noise ratio {})\\n'.format(sn_ratio) +\n",
    "             'Figure 3: probability map for classified image with signal to noise ratio {}'.format(sn_ratio))\n",
    "\n",
    "plt.subplot(131)\n",
    "\n",
    "plt.imshow(img_original, aspect='auto', cmap='gray')\n",
    "plt.colorbar()\n",
    "plt.xlabel('Common Midpoint Index')\n",
    "plt.ylabel('Time Sample Index')\n",
    "plt.title('Figure 1')\n",
    "\n",
    "plt.subplot(132)\n",
    "\n",
    "plt.imshow(img_sn_onehalf, cmap='gray', aspect='auto')\n",
    "plt.colorbar()\n",
    "plt.xlabel('Common Midpoint Index')\n",
    "plt.ylabel('Time Sample Index')\n",
    "plt.title('Figure 2')\n",
    "\n",
    "plt.subplot(133)\n",
    "\n",
    "plt.imshow(prob_map_sn_onehalf, cmap='gray', aspect='auto')\n",
    "plt.colorbar()\n",
    "plt.xlabel('Common Midpoint Index')\n",
    "plt.ylabel('Time Sample Index')\n",
    "plt.title('Figure 3')\n"
   ]
  },
  {
   "cell_type": "code",
   "execution_count": 42,
   "metadata": {
    "collapsed": false
   },
   "outputs": [
    {
     "data": {
      "text/plain": [
       "<matplotlib.text.Text at 0x7f9fd1f6bfd0>"
      ]
     },
     "execution_count": 42,
     "metadata": {},
     "output_type": "execute_result"
    }
   ],
   "source": [
    "sn_ratio = 1\n",
    "\n",
    "fig = plt.figure()\n",
    "fig.suptitle('Figure 1: original SGY image\\n' +\n",
    "             'Figure 2: original image with normally distributed noise (signal to noise ratio {})\\n'.format(sn_ratio) +\n",
    "             'Figure 3: probability map for classified image with signal to noise ratio {}'.format(sn_ratio))\n",
    "\n",
    "plt.subplot(131)\n",
    "\n",
    "plt.imshow(img_original, aspect='auto', cmap='gray')\n",
    "plt.colorbar()\n",
    "plt.xlabel('Common Midpoint Index')\n",
    "plt.ylabel('Time Sample Index')\n",
    "plt.title('Figure 1')\n",
    "\n",
    "plt.subplot(132)\n",
    "\n",
    "plt.imshow(img_sn_1, cmap='gray', aspect='auto')\n",
    "plt.colorbar()\n",
    "plt.xlabel('Common Midpoint Index')\n",
    "plt.ylabel('Time Sample Index')\n",
    "plt.title('Figure 2')\n",
    "\n",
    "plt.subplot(133)\n",
    "\n",
    "plt.imshow(prob_map_sn_1, cmap='gray', aspect='auto')\n",
    "plt.colorbar()\n",
    "plt.xlabel('Common Midpoint Index')\n",
    "plt.ylabel('Time Sample Index')\n",
    "plt.title('Figure 3')\n"
   ]
  },
  {
   "cell_type": "code",
   "execution_count": 43,
   "metadata": {
    "collapsed": false
   },
   "outputs": [
    {
     "data": {
      "text/plain": [
       "<matplotlib.text.Text at 0x7f9fd14bceb8>"
      ]
     },
     "execution_count": 43,
     "metadata": {},
     "output_type": "execute_result"
    }
   ],
   "source": [
    "sn_ratio = 2\n",
    "\n",
    "fig = plt.figure()\n",
    "fig.suptitle('Figure 1: original SGY image\\n' +\n",
    "             'Figure 2: original image with normally distributed noise (signal to noise ratio {})\\n'.format(sn_ratio) +\n",
    "             'Figure 3: probability map for classified image with signal to noise ratio {}'.format(sn_ratio))\n",
    "\n",
    "plt.subplot(131)\n",
    "\n",
    "plt.imshow(img_original, aspect='auto', cmap='gray')\n",
    "plt.colorbar()\n",
    "plt.xlabel('Common Midpoint Index')\n",
    "plt.ylabel('Time Sample Index')\n",
    "plt.title('Figure 1')\n",
    "\n",
    "plt.subplot(132)\n",
    "\n",
    "plt.imshow(img_sn_2, cmap='gray', aspect='auto')\n",
    "plt.colorbar()\n",
    "plt.xlabel('Common Midpoint Index')\n",
    "plt.ylabel('Time Sample Index')\n",
    "plt.title('Figure 2')\n",
    "\n",
    "plt.subplot(133)\n",
    "\n",
    "plt.imshow(prob_map_sn_2, cmap='gray', aspect='auto')\n",
    "plt.colorbar()\n",
    "plt.xlabel('Common Midpoint Index')\n",
    "plt.ylabel('Time Sample Index')\n",
    "plt.title('Figure 3')\n"
   ]
  },
  {
   "cell_type": "code",
   "execution_count": 44,
   "metadata": {
    "collapsed": false
   },
   "outputs": [
    {
     "data": {
      "text/plain": [
       "<matplotlib.text.Text at 0x7f9fd09ff748>"
      ]
     },
     "execution_count": 44,
     "metadata": {},
     "output_type": "execute_result"
    }
   ],
   "source": [
    "sn_ratio = 4\n",
    "\n",
    "fig = plt.figure()\n",
    "fig.suptitle('Figure 1: original SGY image\\n' +\n",
    "             'Figure 2: original image with normally distributed noise (signal to noise ratio {})\\n'.format(sn_ratio) +\n",
    "             'Figure 3: probability map for classified image with signal to noise ratio {}'.format(sn_ratio))\n",
    "\n",
    "plt.subplot(131)\n",
    "\n",
    "plt.imshow(img_original, aspect='auto', cmap='gray')\n",
    "plt.colorbar()\n",
    "plt.xlabel('Common Midpoint Index')\n",
    "plt.ylabel('Time Sample Index')\n",
    "plt.title('Figure 1')\n",
    "\n",
    "plt.subplot(132)\n",
    "\n",
    "plt.imshow(img_sn_4, cmap='gray', aspect='auto')\n",
    "plt.colorbar()\n",
    "plt.xlabel('Common Midpoint Index')\n",
    "plt.ylabel('Time Sample Index')\n",
    "plt.title('Figure 2')\n",
    "\n",
    "plt.subplot(133)\n",
    "\n",
    "plt.imshow(prob_map_sn_4, cmap='gray', aspect='auto')\n",
    "plt.colorbar()\n",
    "plt.xlabel('Common Midpoint Index')\n",
    "plt.ylabel('Time Sample Index')\n",
    "plt.title('Figure 3')\n"
   ]
  },
  {
   "cell_type": "code",
   "execution_count": 45,
   "metadata": {
    "collapsed": false
   },
   "outputs": [
    {
     "data": {
      "text/plain": [
       "<matplotlib.text.Text at 0x7f9fcbf2d3c8>"
      ]
     },
     "execution_count": 45,
     "metadata": {},
     "output_type": "execute_result"
    }
   ],
   "source": [
    "sn_ratio = 8\n",
    "\n",
    "fig = plt.figure()\n",
    "fig.suptitle('Figure 1: original SGY image\\n' +\n",
    "             'Figure 2: original image with normally distributed noise (signal to noise ratio {})\\n'.format(sn_ratio) +\n",
    "             'Figure 3: probability map for classified image with signal to noise ratio {}'.format(sn_ratio))\n",
    "\n",
    "plt.subplot(131)\n",
    "\n",
    "plt.imshow(img_original, aspect='auto', cmap='gray')\n",
    "plt.colorbar()\n",
    "plt.xlabel('Common Midpoint Index')\n",
    "plt.ylabel('Time Sample Index')\n",
    "plt.title('Figure 1')\n",
    "\n",
    "plt.subplot(132)\n",
    "\n",
    "plt.imshow(img_sn_8, cmap='gray', aspect='auto')\n",
    "plt.colorbar()\n",
    "plt.xlabel('Common Midpoint Index')\n",
    "plt.ylabel('Time Sample Index')\n",
    "plt.title('Figure 2')\n",
    "\n",
    "plt.subplot(133)\n",
    "\n",
    "plt.imshow(prob_map_sn_8, cmap='gray', aspect='auto')\n",
    "plt.colorbar()\n",
    "plt.xlabel('Common Midpoint Index')\n",
    "plt.ylabel('Time Sample Index')\n",
    "plt.title('Figure 3')\n"
   ]
  },
  {
   "cell_type": "code",
   "execution_count": 12,
   "metadata": {
    "collapsed": false
   },
   "outputs": [
    {
     "data": {
      "text/plain": [
       "<matplotlib.text.Text at 0x7f4bc38da7b8>"
      ]
     },
     "execution_count": 12,
     "metadata": {},
     "output_type": "execute_result"
    }
   ],
   "source": [
    "sn_ratio = 16\n",
    "\n",
    "fig = plt.figure()\n",
    "fig.suptitle('Figure 1: original SGY image\\n' +\n",
    "             'Figure 2: original image with normally distributed noise (signal to noise ratio {})\\n'.format(sn_ratio) +\n",
    "             'Figure 3: probability map for classified image with signal to noise ratio {}'.format(sn_ratio))\n",
    "\n",
    "plt.subplot(131)\n",
    "\n",
    "plt.imshow(img_original, aspect='auto', cmap='gray')\n",
    "plt.colorbar()\n",
    "plt.xlabel('Common Midpoint Index')\n",
    "plt.ylabel('Time Sample Index')\n",
    "plt.title('Figure 1')\n",
    "\n",
    "plt.subplot(132)\n",
    "\n",
    "plt.imshow(img_sn_16, cmap='gray', aspect='auto')\n",
    "plt.colorbar()\n",
    "plt.xlabel('Common Midpoint Index')\n",
    "plt.ylabel('Time Sample Index')\n",
    "plt.title('Figure 2')\n",
    "\n",
    "plt.subplot(133)\n",
    "\n",
    "plt.imshow(prob_map_sn_16, cmap='gray', aspect='auto')\n",
    "plt.colorbar()\n",
    "plt.xlabel('Common Midpoint Index')\n",
    "plt.ylabel('Time Sample Index')\n",
    "plt.title('Figure 3')\n"
   ]
  },
  {
   "cell_type": "code",
   "execution_count": null,
   "metadata": {
    "collapsed": true
   },
   "outputs": [],
   "source": []
  }
 ],
 "metadata": {
  "kernelspec": {
   "display_name": "Python 3",
   "language": "python",
   "name": "python3"
  },
  "language_info": {
   "codemirror_mode": {
    "name": "ipython",
    "version": 3
   },
   "file_extension": ".py",
   "mimetype": "text/x-python",
   "name": "python",
   "nbconvert_exporter": "python",
   "pygments_lexer": "ipython3",
   "version": "3.6.0"
  }
 },
 "nbformat": 4,
 "nbformat_minor": 2
}
