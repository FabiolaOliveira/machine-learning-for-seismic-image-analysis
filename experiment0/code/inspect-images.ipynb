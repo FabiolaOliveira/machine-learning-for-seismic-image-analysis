{
 "cells": [
  {
   "cell_type": "code",
   "execution_count": 2,
   "metadata": {
    "collapsed": true
   },
   "outputs": [],
   "source": [
    "import numpy as np\n",
    "import pymei as pm\n",
    "import matplotlib.pyplot as plt\n"
   ]
  },
  {
   "cell_type": "code",
   "execution_count": 3,
   "metadata": {
    "collapsed": false
   },
   "outputs": [
    {
     "name": "stdout",
     "output_type": "stream",
     "text": [
      "usage: experiment0.py [-h] [-w WINDOW_SIZE] [-n NAME] [-l LOG] [-v]\r\n",
      "                      [-c COOKIE_FILE] [-gt] [-tf TRAINING_FOLDER] [-cd]\r\n",
      "                      [-d DATASET] [-cm] [-m MODEL] [-gtst]\r\n",
      "                      [-tstf TEST_FOLDER] [-cl] [-o OUTPUT_IMAGE] -ne\r\n",
      "                      NO_EVENT_PICKS -e EVENT_PICKS -i IMAGE\r\n",
      "\r\n",
      "experiment0 involves the following steps:\r\n",
      "\r\n",
      "    1. take an image (CMP stacked) of seismic amplitudes\r\n",
      "    2. divide it up into windows of size w (w must be odd) centered at every possible pixel in the original image\r\n",
      "    3. some of the windows for we which we have a class label\r\n",
      "        ('event' or 'no event' depending on the classification of the central pixel)\r\n",
      "        will be part of the training/validation set.\r\n",
      "    4. all the other windows of the entire image will be part of the test set.\r\n",
      "    5. we'll send POST requests to a running instance of an NVIDIA DIGITS server in order to:\r\n",
      "        a) create a dataset\r\n",
      "        b) create a model\r\n",
      "        c) classify the test set, stashing the results\r\n",
      "    6. since we don't necessarily have class labels for the test set,\r\n",
      "        we will simply generate an image with a color map that reflects\r\n",
      "        the probability of event/noevent at each pixel.\r\n",
      "    7. we display the image\r\n",
      "    \r\n",
      "\r\n",
      "optional arguments:\r\n",
      "  -h, --help            show this help message and exit\r\n",
      "  -w WINDOW_SIZE, --window-size WINDOW_SIZE\r\n",
      "                        define the (odd) size, 2K+1 by 2K+1, of each cutout of\r\n",
      "                        the main image\r\n",
      "  -n NAME, --name NAME  give this dataset/model/classification/image\r\n",
      "                        generation experiment a name. default is\r\n",
      "                        experiment0-<your username>\r\n",
      "  -l LOG, --log LOG     log all console output to this file. default is\r\n",
      "                        <name>--<timestamp>\r\n",
      "  -v, --verbose         print diagnostic info\r\n",
      "  -c COOKIE_FILE, --cookie-file COOKIE_FILE\r\n",
      "                        cookie file for NVIDIA DIGITS server (used for login)\r\n",
      "  -gt, --generate-training\r\n",
      "                        the training images will be generated from the input\r\n",
      "                        image\r\n",
      "  -tf TRAINING_FOLDER, --training-folder TRAINING_FOLDER\r\n",
      "                        folder where the training images are located (split\r\n",
      "                        into subfolders whose names are the class labels)\r\n",
      "  -cd, --create-dataset\r\n",
      "                        create an NVIDIA Digits dataset with training images\r\n",
      "  -d DATASET, --dataset DATASET\r\n",
      "                        specify DIGITS dataset name to use\r\n",
      "  -cm, --create-model   create an NVIDIA Digits model with training images\r\n",
      "  -m MODEL, --model MODEL\r\n",
      "                        specify DIGITS model name to use\r\n",
      "  -gtst, --generate-test\r\n",
      "                        generate test images from the input image\r\n",
      "  -tstf TEST_FOLDER, --test-folder TEST_FOLDER\r\n",
      "                        folder where the test images are\r\n",
      "  -cl, --classify       classify the images in the test folder, generating\r\n",
      "                        class probabilities for each\r\n",
      "  -o OUTPUT_IMAGE, --output-image OUTPUT_IMAGE\r\n",
      "                        path of probability map image to be saved. default is\r\n",
      "                        <name>--<timestamp>\r\n",
      "  -ne NO_EVENT_PICKS, --no-event-picks NO_EVENT_PICKS\r\n",
      "                        file with time sample and trace indices of selected\r\n",
      "                        \"no event\" points in the image\r\n",
      "  -e EVENT_PICKS, --event-picks EVENT_PICKS\r\n",
      "                        file with time sample and trace indices of selected\r\n",
      "                        \"event\" points in the image\r\n",
      "  -i IMAGE, --image IMAGE\r\n",
      "                        SEGY, SU, or PNG image on which to perform experiment0\r\n"
     ]
    }
   ],
   "source": [
    "!python experiment0.py -h"
   ]
  },
  {
   "cell_type": "code",
   "execution_count": 7,
   "metadata": {
    "collapsed": true
   },
   "outputs": [],
   "source": [
    "import proj_utilities as proj"
   ]
  },
  {
   "cell_type": "code",
   "execution_count": 5,
   "metadata": {
    "collapsed": false
   },
   "outputs": [
    {
     "name": "stdout",
     "output_type": "stream",
     "text": [
      "Using matplotlib backend: Qt5Agg\n"
     ]
    }
   ],
   "source": [
    "# makes sure a new window pops up\n",
    "%matplotlib"
   ]
  },
  {
   "cell_type": "markdown",
   "metadata": {},
   "source": [
    "## Load the data from file (DEPRECATED)"
   ]
  },
  {
   "cell_type": "code",
   "execution_count": 5,
   "metadata": {
    "collapsed": false
   },
   "outputs": [],
   "source": [
    "segy_traces = [trace for trace in pm.load('../inputs/sunset-stacked.sgy')]"
   ]
  },
  {
   "cell_type": "code",
   "execution_count": 6,
   "metadata": {
    "collapsed": false
   },
   "outputs": [],
   "source": [
    "segy_data_img = np.array([trace.data for trace in segy_traces]).T"
   ]
  },
  {
   "cell_type": "code",
   "execution_count": 7,
   "metadata": {
    "collapsed": true
   },
   "outputs": [],
   "source": [
    "vmax = np.abs(np.max(segy_data_img))\n",
    "vmin = -vmax"
   ]
  },
  {
   "cell_type": "code",
   "execution_count": 11,
   "metadata": {
    "collapsed": false
   },
   "outputs": [],
   "source": [
    "no_event_training_points = {int(cdp): time for cdp, time in np.loadtxt('../inputs/original-noevent-points')}"
   ]
  },
  {
   "cell_type": "code",
   "execution_count": 12,
   "metadata": {
    "collapsed": false
   },
   "outputs": [
    {
     "data": {
      "text/plain": [
       "{162: 595.89999999999998,\n",
       " 169: 1378.4000000000001,\n",
       " 179: 2080.6999999999998,\n",
       " 191: 1085.5,\n",
       " 200: 1631.2,\n",
       " 212: 2241.1999999999998,\n",
       " 226: 2534.0999999999999,\n",
       " 235: 519.70000000000005,\n",
       " 249: 2088.6999999999998,\n",
       " 252: 1177.8,\n",
       " 267: 1659.3,\n",
       " 278: 531.70000000000005,\n",
       " 280: 2594.3000000000002,\n",
       " 301: 1378.4000000000001,\n",
       " 314: 290.89999999999998,\n",
       " 326: 1346.3,\n",
       " 327: 2867.1999999999998,\n",
       " 337: 973.10000000000002,\n",
       " 341: 2586.3000000000002}"
      ]
     },
     "execution_count": 12,
     "metadata": {},
     "output_type": "execute_result"
    }
   ],
   "source": [
    "no_event_training_points"
   ]
  },
  {
   "cell_type": "code",
   "execution_count": 13,
   "metadata": {
    "collapsed": false
   },
   "outputs": [],
   "source": [
    "event_training_points = {int(cdp): time for cdp, time in np.loadtxt('../inputs/original-event-points')}"
   ]
  },
  {
   "cell_type": "code",
   "execution_count": 14,
   "metadata": {
    "collapsed": false
   },
   "outputs": [
    {
     "data": {
      "text/plain": [
       "{157: 1022.5,\n",
       " 164: 1809.8,\n",
       " 198: 1025.2,\n",
       " 209: 2199.0,\n",
       " 210: 1917.5999999999999,\n",
       " 218: 2180.3000000000002,\n",
       " 233: 2161.5,\n",
       " 245: 2156.0999999999999,\n",
       " 248: 1022.5,\n",
       " 254: 2165.0,\n",
       " 255: 2022.8,\n",
       " 274: 2206.3000000000002,\n",
       " 286: 2246.3000000000002,\n",
       " 288: 1019.8,\n",
       " 302: 2313.0,\n",
       " 307: 2146.8000000000002,\n",
       " 331: 2206.0999999999999,\n",
       " 346: 1022.5}"
      ]
     },
     "execution_count": 14,
     "metadata": {},
     "output_type": "execute_result"
    }
   ],
   "source": [
    "event_training_points"
   ]
  },
  {
   "cell_type": "code",
   "execution_count": 15,
   "metadata": {
    "collapsed": true
   },
   "outputs": [],
   "source": [
    "for trace in segy_traces: # have to run through since we don't really know if CDP indices are in order, what their starting index is, etc...\n",
    "    # convert the time (in ms) found in the file to a sample (vertical axis) number\n",
    "    if trace.cdp in no_event_training_points:\n",
    "        no_event_training_points[trace.cdp] = int(no_event_training_points[trace.cdp] / 1e3 / trace.dt) \n",
    "    if trace.cdp in event_training_points:\n",
    "        event_training_points[trace.cdp] = int(event_training_points[trace.cdp] / 1e3 / trace.dt) \n"
   ]
  },
  {
   "cell_type": "code",
   "execution_count": 16,
   "metadata": {
    "collapsed": false
   },
   "outputs": [
    {
     "data": {
      "text/plain": [
       "{162: 297,\n",
       " 169: 689,\n",
       " 179: 1040,\n",
       " 191: 542,\n",
       " 200: 815,\n",
       " 212: 1120,\n",
       " 226: 1267,\n",
       " 235: 259,\n",
       " 249: 1044,\n",
       " 252: 588,\n",
       " 267: 829,\n",
       " 278: 265,\n",
       " 280: 1297,\n",
       " 301: 689,\n",
       " 314: 145,\n",
       " 326: 673,\n",
       " 327: 1433,\n",
       " 337: 486,\n",
       " 341: 1293}"
      ]
     },
     "execution_count": 16,
     "metadata": {},
     "output_type": "execute_result"
    }
   ],
   "source": [
    "no_event_training_points"
   ]
  },
  {
   "cell_type": "code",
   "execution_count": 17,
   "metadata": {
    "collapsed": false
   },
   "outputs": [
    {
     "data": {
      "text/plain": [
       "{157: 511,\n",
       " 164: 904,\n",
       " 198: 512,\n",
       " 209: 1099,\n",
       " 210: 958,\n",
       " 218: 1090,\n",
       " 233: 1080,\n",
       " 245: 1078,\n",
       " 248: 511,\n",
       " 254: 1082,\n",
       " 255: 1011,\n",
       " 274: 1103,\n",
       " 286: 1123,\n",
       " 288: 509,\n",
       " 302: 1156,\n",
       " 307: 1073,\n",
       " 331: 1103,\n",
       " 346: 511}"
      ]
     },
     "execution_count": 17,
     "metadata": {},
     "output_type": "execute_result"
    }
   ],
   "source": [
    "event_training_points"
   ]
  },
  {
   "cell_type": "code",
   "execution_count": 18,
   "metadata": {
    "collapsed": true
   },
   "outputs": [],
   "source": [
    "cdp_shift = 48 # the CDP indices in the file start at 48 and progress until 48 + num_traces\n",
    "\n",
    "no_event_time_indices = [no_event_training_points[k] for k in no_event_training_points.keys()]\n",
    "no_event_cdp_indices = [k-cdp_shift for k in no_event_training_points.keys()]\n",
    "\n",
    "event_time_indices = [event_training_points[k] for k in event_training_points.keys()]\n",
    "event_cdp_indices = [k-cdp_shift for k in event_training_points.keys()]"
   ]
  },
  {
   "cell_type": "markdown",
   "metadata": {
    "collapsed": true
   },
   "source": [
    "## Fetch image and pick data from file"
   ]
  },
  {
   "cell_type": "code",
   "execution_count": 8,
   "metadata": {
    "collapsed": false
   },
   "outputs": [],
   "source": [
    "segy_traces, segy_data_img = proj.load_seismic_image('../inputs/sunset-stacked.sgy')"
   ]
  },
  {
   "cell_type": "code",
   "execution_count": 12,
   "metadata": {
    "collapsed": true
   },
   "outputs": [],
   "source": [
    "no_event_picks = proj.load_seismic_picks_json_format('../inputs/noevent-points.json')\n",
    "event_picks = proj.load_seismic_picks_json_format('../inputs/event-points.json')"
   ]
  },
  {
   "cell_type": "code",
   "execution_count": 13,
   "metadata": {
    "collapsed": true
   },
   "outputs": [],
   "source": [
    "no_event_time_indices = [p[0] for p in no_event_picks]\n",
    "no_event_cdp_indices = [p[1] for p in no_event_picks]\n",
    "\n",
    "event_time_indices = [p[0] for p in event_picks]\n",
    "event_cdp_indices = [p[1] for p in event_picks]"
   ]
  },
  {
   "cell_type": "code",
   "execution_count": 14,
   "metadata": {
    "collapsed": true
   },
   "outputs": [],
   "source": [
    "vmax = np.abs(np.max(segy_data_img))\n",
    "vmin = -vmax"
   ]
  },
  {
   "cell_type": "markdown",
   "metadata": {},
   "source": [
    "## Show sunset image with color scale normalized to <br> [-1.0, 1.0]"
   ]
  },
  {
   "cell_type": "code",
   "execution_count": 17,
   "metadata": {
    "collapsed": true
   },
   "outputs": [],
   "source": [
    "segy_data_img_normalized = segy_data_img / np.max(segy_data_img)"
   ]
  },
  {
   "cell_type": "code",
   "execution_count": 18,
   "metadata": {
    "collapsed": false
   },
   "outputs": [
    {
     "data": {
      "text/plain": [
       "-0.29497638069238696"
      ]
     },
     "execution_count": 18,
     "metadata": {},
     "output_type": "execute_result"
    }
   ],
   "source": [
    "segy_data_img_normalized.min()"
   ]
  },
  {
   "cell_type": "code",
   "execution_count": 19,
   "metadata": {
    "collapsed": false
   },
   "outputs": [
    {
     "data": {
      "text/plain": [
       "<matplotlib.text.Text at 0x7f655aa1d0b8>"
      ]
     },
     "execution_count": 19,
     "metadata": {},
     "output_type": "execute_result"
    }
   ],
   "source": [
    "plt.imshow(segy_data_img_normalized, vmin=-1.0, vmax=1.0, cmap='seismic', aspect='auto')\n",
    "plt.colorbar()\n",
    "plt.xlabel('Common Midpoint Index')\n",
    "plt.ylabel('Time Sample Index')\n",
    "plt.title('synthetic \"sunset\" image')"
   ]
  },
  {
   "cell_type": "markdown",
   "metadata": {},
   "source": [
    "## Show the absolute amplitudes of the image"
   ]
  },
  {
   "cell_type": "code",
   "execution_count": 20,
   "metadata": {
    "collapsed": true
   },
   "outputs": [],
   "source": [
    "segy_data_img_normalized_abs = np.abs(segy_data_img_normalized)"
   ]
  },
  {
   "cell_type": "code",
   "execution_count": 21,
   "metadata": {
    "collapsed": false
   },
   "outputs": [
    {
     "data": {
      "text/plain": [
       "<matplotlib.text.Text at 0x7f655a4d75f8>"
      ]
     },
     "execution_count": 21,
     "metadata": {},
     "output_type": "execute_result"
    }
   ],
   "source": [
    "plt.imshow(segy_data_img_normalized, vmin=0.0, vmax=1.0, cmap='gray', aspect='auto')\n",
    "plt.colorbar()\n",
    "plt.xlabel('Common Midpoint Index')\n",
    "plt.ylabel('Time Sample Index')\n",
    "plt.title('synthetic \"sunset\" image absolute amplitudes')"
   ]
  },
  {
   "cell_type": "markdown",
   "metadata": {},
   "source": [
    "## show the sunset image along with event and no event picks"
   ]
  },
  {
   "cell_type": "code",
   "execution_count": 16,
   "metadata": {
    "collapsed": false
   },
   "outputs": [
    {
     "data": {
      "text/plain": [
       "<matplotlib.text.Text at 0x7f6550562b70>"
      ]
     },
     "execution_count": 16,
     "metadata": {},
     "output_type": "execute_result"
    }
   ],
   "source": [
    "plt.imshow(segy_data_img, cmap='seismic', vmin=vmin, vmax=vmax, aspect='auto')\n",
    "plt.colorbar()\n",
    "\n",
    "plt.scatter(no_event_cdp_indices, no_event_time_indices, c='b', marker='x', label='no event picks')\n",
    "plt.scatter(event_cdp_indices, event_time_indices, c='r', marker='x', label='event picks')\n",
    "\n",
    "plt.xlabel('Common Midpoint Index')\n",
    "plt.ylabel('Time Sample Index')\n",
    "plt.legend(loc='lower left')\n",
    "plt.title('synthetic \"sunset\" image with event and non-event picks')\n",
    "\n",
    "#plt.colorbar()\n",
    "\n",
    "#plt.axis([0, segy_data_img.shape[1], 0, 500])"
   ]
  },
  {
   "cell_type": "markdown",
   "metadata": {},
   "source": [
    "## show sunset image classified via the 17x17 window experiment (gray scale), as well as 33x33, 49x49, 65x65, 129x129"
   ]
  },
  {
   "cell_type": "code",
   "execution_count": 22,
   "metadata": {
    "collapsed": true
   },
   "outputs": [],
   "source": [
    "# the alpha channel that mpl baked into our saved images is mostly a nuisance\n",
    "prob_window17 = plt.imread('/home/giuliano/quake-n-code/experiment0/outputs/experiment0--window17-corrected--2017-04-10--14-07-04.png')[:,:,:-1]\n",
    "prob_window17version2 = plt.imread('/home/giuliano/quake-n-code/experiment0/outputs/experiment0--window17-corrected-version2--2017-04-17--10-51-38.png')[:,:,:-1]\n",
    "\n",
    "prob_window33 = plt.imread('/home/giuliano/quake-n-code/experiment0/outputs/experiment0--window33-corrected--2017-04-03--13-41-43.png')[:,:,:-1]\n",
    "prob_window49 = plt.imread('/home/giuliano/quake-n-code/experiment0/outputs/experiment0--window49-corrected--2017-04-03--17-56-47.png')[:,:,:-1]\n",
    "prob_window65 = plt.imread('/home/giuliano/quake-n-code/experiment0/outputs/experiment0--window65-corrected--2017-04-03--17-58-25.png')[:,:,:-1]\n",
    "prob_window129 = plt.imread('/home/giuliano/quake-n-code/experiment0/outputs/experiment0--window129-corrected-doneagain--2017-04-10--15-45-51.png')[:,:,:-1]\n"
   ]
  },
  {
   "cell_type": "code",
   "execution_count": 23,
   "metadata": {
    "collapsed": false
   },
   "outputs": [
    {
     "data": {
      "text/plain": [
       "<matplotlib.text.Text at 0x7f6550553080>"
      ]
     },
     "execution_count": 23,
     "metadata": {},
     "output_type": "execute_result"
    }
   ],
   "source": [
    "plt.imshow(prob_window17, aspect='auto', cmap='gray')\n",
    "plt.colorbar()\n",
    "plt.xlabel('Common Midpoint Index')\n",
    "plt.ylabel('Time Sample Index')\n",
    "plt.title('Synthetic sunset image classified with the probability of seismic event at each point (testing with 17x17 window size)')\n"
   ]
  },
  {
   "cell_type": "code",
   "execution_count": 24,
   "metadata": {
    "collapsed": false
   },
   "outputs": [
    {
     "data": {
      "text/plain": [
       "<matplotlib.text.Text at 0x7f655a30d6d8>"
      ]
     },
     "execution_count": 24,
     "metadata": {},
     "output_type": "execute_result"
    }
   ],
   "source": [
    "plt.imshow(prob_window17version2, aspect='auto', cmap='gray')\n",
    "plt.colorbar()\n",
    "plt.xlabel('Common Midpoint Index')\n",
    "plt.ylabel('Time Sample Index')\n",
    "plt.title('Synthetic sunset image classified with the probability of seismic event at each point (testing with 17x17 window size)')\n"
   ]
  },
  {
   "cell_type": "code",
   "execution_count": null,
   "metadata": {
    "collapsed": false
   },
   "outputs": [],
   "source": [
    "# comparing 2 different runs of the same 17x17 experiment\n",
    "plt.subplot(121)\n",
    "\n",
    "plt.imshow(prob_window17, aspect='auto', cmap='gray')\n",
    "plt.colorbar()\n",
    "plt.xlabel('Common Midpoint Index')\n",
    "plt.ylabel('Time Sample Index')\n",
    "plt.title('Synthetic sunset image classified with the probability of seismic event at each point (testing with 17x17 window size)')\n",
    "\n",
    "plt.subplot(122)\n",
    "\n",
    "plt.imshow(prob_window17version2, aspect='auto', cmap='gray')\n",
    "plt.colorbar()\n",
    "plt.xlabel('Common Midpoint Index')\n",
    "plt.ylabel('Time Sample Index')\n",
    "plt.title('Synthetic sunset image classified with the probability of seismic event at each point (testing with 17x17 window size)')\n",
    "\n"
   ]
  },
  {
   "cell_type": "code",
   "execution_count": null,
   "metadata": {
    "collapsed": false
   },
   "outputs": [],
   "source": [
    "# comparing 2 different runs of the same 17x17 experiment\n",
    "# thresholded at p1 and p2, respectively\n",
    "p1 = 0.5\n",
    "p2 = 0.3\n",
    "\n",
    "plt.subplot(121)\n",
    "\n",
    "plt.imshow(np.where(prob_window17 > p1,\n",
    "                    1.0,\n",
    "                    0.0),\n",
    "           aspect='auto', cmap='gray')\n",
    "plt.colorbar()\n",
    "plt.xlabel('Common Midpoint Index')\n",
    "plt.ylabel('Time Sample Index')\n",
    "plt.title('Synthetic sunset image classified with the probability of seismic event at each point (testing with 17x17 window size)')\n",
    "\n",
    "plt.subplot(122)\n",
    "\n",
    "plt.imshow(np.where(prob_window17version2 > p2,\n",
    "                    1.0,\n",
    "                    0.0),\n",
    "           aspect='auto', cmap='gray')\n",
    "plt.colorbar()\n",
    "plt.xlabel('Common Midpoint Index')\n",
    "plt.ylabel('Time Sample Index')\n",
    "plt.title('Synthetic sunset image classified with the probability of seismic event at each point (testing with 17x17 window size)')\n",
    "\n"
   ]
  },
  {
   "cell_type": "code",
   "execution_count": null,
   "metadata": {
    "collapsed": true
   },
   "outputs": [],
   "source": []
  },
  {
   "cell_type": "code",
   "execution_count": null,
   "metadata": {
    "collapsed": false
   },
   "outputs": [],
   "source": [
    "plt.imshow(prob_window33, aspect='auto', cmap='gray')\n",
    "plt.colorbar()\n",
    "plt.xlabel('Common Midpoint Index')\n",
    "plt.ylabel('Time Sample Index')\n",
    "plt.title('Synthetic sunset image classified with the probability of seismic event at each point (testing with 33x33 window size)')\n"
   ]
  },
  {
   "cell_type": "code",
   "execution_count": null,
   "metadata": {
    "collapsed": false
   },
   "outputs": [],
   "source": [
    "plt.imshow(prob_window49, aspect='auto', cmap='gray')\n",
    "plt.colorbar()\n",
    "plt.xlabel('Common Midpoint Index')\n",
    "plt.ylabel('Time Sample Index')\n",
    "plt.title('Synthetic sunset image classified with the probability of seismic event at each point (testing with 49x49 window size)')\n"
   ]
  },
  {
   "cell_type": "code",
   "execution_count": null,
   "metadata": {
    "collapsed": false
   },
   "outputs": [],
   "source": [
    "plt.imshow(prob_window65, aspect='auto', cmap='gray')\n",
    "plt.colorbar()\n",
    "plt.xlabel('Common Midpoint Index')\n",
    "plt.ylabel('Time Sample Index')\n",
    "plt.title('Synthetic sunset image classified with the probability of seismic event at each point (testing with 65x65 window size)')\n"
   ]
  },
  {
   "cell_type": "code",
   "execution_count": null,
   "metadata": {
    "collapsed": true
   },
   "outputs": [],
   "source": [
    "plt.imshow(prob_window129, aspect='auto', cmap='gray')\n",
    "plt.colorbar()\n",
    "plt.xlabel('Common Midpoint Index')\n",
    "plt.ylabel('Time Sample Index')\n",
    "plt.title('Synthetic sunset image classified with the probability of seismic event at each point (testing with 129x129 window size)')\n"
   ]
  },
  {
   "cell_type": "code",
   "execution_count": null,
   "metadata": {
    "collapsed": false
   },
   "outputs": [],
   "source": [
    "# generate a figure with all of them for comparison\n",
    "plt.subplot(231)\n",
    "\n",
    "plt.imshow(prob_window17, aspect='auto', cmap='gray')\n",
    "plt.colorbar()\n",
    "plt.xlabel('Common Midpoint Index')\n",
    "plt.ylabel('Time Sample Index')\n",
    "plt.title('(testing with 17x17 window size)')\n",
    "\n",
    "plt.subplot(232)\n",
    "\n",
    "plt.imshow(prob_window33, aspect='auto', cmap='gray')\n",
    "plt.colorbar()\n",
    "plt.xlabel('Common Midpoint Index')\n",
    "plt.ylabel('Time Sample Index')\n",
    "plt.title('(testing with 33x33 window size)')\n",
    "\n",
    "plt.subplot(233)\n",
    "\n",
    "plt.imshow(prob_window49, aspect='auto', cmap='gray')\n",
    "plt.colorbar()\n",
    "plt.xlabel('Common Midpoint Index')\n",
    "plt.ylabel('Time Sample Index')\n",
    "plt.title('(testing with 49x49 window size)')\n",
    "\n",
    "plt.subplot(234)\n",
    "\n",
    "plt.imshow(prob_window65, aspect='auto', cmap='gray')\n",
    "plt.colorbar()\n",
    "plt.xlabel('Common Midpoint Index')\n",
    "plt.ylabel('Time Sample Index')\n",
    "plt.title('(testing with 65x65 window size)')\n",
    "\n",
    "plt.subplot(235)\n",
    "\n",
    "plt.imshow(prob_window129, aspect='auto', cmap='gray')\n",
    "plt.colorbar()\n",
    "plt.xlabel('Common Midpoint Index')\n",
    "plt.ylabel('Time Sample Index')\n",
    "plt.title('(testing with 129x129 window size)')\n"
   ]
  },
  {
   "cell_type": "markdown",
   "metadata": {},
   "source": [
    "## Threshold the probability at $p \\in [0,1]$ for display"
   ]
  },
  {
   "cell_type": "code",
   "execution_count": 20,
   "metadata": {
    "collapsed": false
   },
   "outputs": [],
   "source": [
    "p = 0.2 # above this threshold: white; below: black\n",
    "thresholded_prob_window17 = np.where(prob_window17version2 > p,\n",
    "                                     1.0,\n",
    "                                     0.0)"
   ]
  },
  {
   "cell_type": "code",
   "execution_count": null,
   "metadata": {
    "collapsed": false
   },
   "outputs": [],
   "source": [
    "# show the thresholded probability image along with the original image\n",
    "# with absolute values of the amplitudes normalized at [0, 1]\n",
    "plt.subplot(131)\n",
    "\n",
    "plt.imshow(segy_data_img_normalized_abs, aspect='auto', cmap='gray')\n",
    "plt.colorbar()\n",
    "plt.xlabel('Common Midpoint Index')\n",
    "plt.ylabel('Time Sample Index')\n",
    "plt.title('original image with absolute normalized amplitudes')\n",
    "\n",
    "plt.subplot(132)\n",
    "\n",
    "plt.imshow(prob_window17version2, aspect='auto', cmap='gray')\n",
    "plt.colorbar()\n",
    "plt.xlabel('Common Midpoint Index')\n",
    "plt.ylabel('Time Sample Index')\n",
    "plt.title('estimated probabilities for 17x17 window size)')\n",
    "\n",
    "plt.subplot(133)\n",
    "\n",
    "plt.imshow(thresholded_prob_window17,  aspect='auto', cmap='gray')\n",
    "plt.xlabel('Common Midpoint Index')\n",
    "plt.ylabel('Time Sample Index')\n",
    "plt.title('estimated event probability > ' + str(p))\n"
   ]
  },
  {
   "cell_type": "code",
   "execution_count": null,
   "metadata": {
    "collapsed": true
   },
   "outputs": [],
   "source": []
  },
  {
   "cell_type": "markdown",
   "metadata": {},
   "source": [
    "## Inspect the histogram of the image - compare it to the probability map"
   ]
  },
  {
   "cell_type": "code",
   "execution_count": 21,
   "metadata": {
    "collapsed": true
   },
   "outputs": [],
   "source": [
    "segy_data_img_normalized_0_1 = (segy_data_img + np.abs(np.min(segy_data_img)))\n",
    "segy_data_img_normalized_0_1 /= np.max(segy_data_img_normalized_0_1)"
   ]
  },
  {
   "cell_type": "code",
   "execution_count": 22,
   "metadata": {
    "collapsed": true
   },
   "outputs": [],
   "source": [
    "segy_data_img_ints = np.round(segy_data_img_normalized_0_1 * 255)"
   ]
  },
  {
   "cell_type": "code",
   "execution_count": 23,
   "metadata": {
    "collapsed": false
   },
   "outputs": [],
   "source": [
    "hist, bins = np.histogram(segy_data_img_ints, bins=256)"
   ]
  },
  {
   "cell_type": "code",
   "execution_count": 24,
   "metadata": {
    "collapsed": false
   },
   "outputs": [
    {
     "data": {
      "text/plain": [
       "(58, 1085412)"
      ]
     },
     "execution_count": 24,
     "metadata": {},
     "output_type": "execute_result"
    }
   ],
   "source": [
    "np.argmax(hist), np.max(hist)"
   ]
  },
  {
   "cell_type": "code",
   "execution_count": 25,
   "metadata": {
    "collapsed": true
   },
   "outputs": [],
   "source": [
    "hist[np.argmax(hist)] = 0 # otherwise we can't see any of the others"
   ]
  },
  {
   "cell_type": "code",
   "execution_count": null,
   "metadata": {
    "collapsed": false
   },
   "outputs": [],
   "source": [
    "plt.bar(bins[:-1], hist)"
   ]
  },
  {
   "cell_type": "code",
   "execution_count": null,
   "metadata": {
    "collapsed": true
   },
   "outputs": [],
   "source": []
  },
  {
   "cell_type": "markdown",
   "metadata": {},
   "source": [
    "## Color thresholding to select 'event' points from original image"
   ]
  },
  {
   "cell_type": "code",
   "execution_count": 32,
   "metadata": {
    "collapsed": true
   },
   "outputs": [],
   "source": [
    "threshold = 0.05\n",
    "thresholded_segy_image = np.where(segy_data_img_normalized > threshold,\n",
    "                                  1.0,\n",
    "                                  0.0)"
   ]
  },
  {
   "cell_type": "code",
   "execution_count": 33,
   "metadata": {
    "collapsed": false
   },
   "outputs": [
    {
     "data": {
      "text/plain": [
       "<matplotlib.text.Text at 0x7f654862b4e0>"
      ]
     },
     "execution_count": 33,
     "metadata": {},
     "output_type": "execute_result"
    }
   ],
   "source": [
    "plt.subplot(121)\n",
    "\n",
    "plt.imshow(segy_data_img_normalized_abs, vmin=-1.0, vmax=1.0, aspect='auto', cmap='seismic')\n",
    "plt.colorbar()\n",
    "plt.xlabel('Common Midpoint Index')\n",
    "plt.ylabel('Time Sample Index')\n",
    "plt.title('original image with absolute normalized amplitudes')\n",
    "\n",
    "plt.subplot(122)\n",
    "\n",
    "plt.imshow(thresholded_segy_image, vmin=-1.0, vmax=1.0, cmap='seismic', aspect='auto')\n",
    "plt.colorbar()\n",
    "plt.xlabel('Common Midpoint Index')\n",
    "plt.ylabel('Time Sample Index')\n",
    "plt.title('synthetic \"sunset\" image thresholded at ' + str(threshold))"
   ]
  },
  {
   "cell_type": "markdown",
   "metadata": {
    "collapsed": true
   },
   "source": [
    "In the range"
   ]
  },
  {
   "cell_type": "markdown",
   "metadata": {},
   "source": [
    "## Edge detection to select 'event' points from original image"
   ]
  },
  {
   "cell_type": "code",
   "execution_count": 37,
   "metadata": {
    "collapsed": true
   },
   "outputs": [],
   "source": [
    "import cv2"
   ]
  },
  {
   "cell_type": "code",
   "execution_count": 38,
   "metadata": {
    "collapsed": false
   },
   "outputs": [],
   "source": [
    "img = np.uint8(segy_data_img_ints)"
   ]
  },
  {
   "cell_type": "code",
   "execution_count": 41,
   "metadata": {
    "collapsed": false
   },
   "outputs": [],
   "source": [
    "# play with the hysteresis thresholding parameters passed to Canny\n",
    "edges = cv2.Canny(img, 50, 200)"
   ]
  },
  {
   "cell_type": "code",
   "execution_count": 42,
   "metadata": {
    "collapsed": false
   },
   "outputs": [
    {
     "data": {
      "text/plain": [
       "<matplotlib.text.Text at 0x7f90e01d3278>"
      ]
     },
     "execution_count": 42,
     "metadata": {},
     "output_type": "execute_result"
    }
   ],
   "source": [
    "plt.subplot(121)\n",
    "\n",
    "plt.imshow(segy_data_img_ints, aspect='auto', cmap='gray')\n",
    "plt.colorbar()\n",
    "plt.xlabel('Common Midpoint Index')\n",
    "plt.ylabel('Time Sample Index')\n",
    "plt.title('original SGY image')\n",
    "\n",
    "plt.subplot(122)\n",
    "\n",
    "plt.imshow(edges, cmap='gray', aspect='auto')\n",
    "plt.colorbar()\n",
    "plt.xlabel('Common Midpoint Index')\n",
    "plt.ylabel('Time Sample Index')\n",
    "plt.title('original image subjected to Canny edge detection')\n"
   ]
  },
  {
   "cell_type": "markdown",
   "metadata": {},
   "source": [
    "## Add some noise to the original image"
   ]
  },
  {
   "cell_type": "code",
   "execution_count": null,
   "metadata": {
    "collapsed": false
   },
   "outputs": [],
   "source": [
    "stddev_noise = 0.1\n",
    "mean_noise = 0.0\n",
    "\n",
    "segy_data_img_noisy = (segy_data_img_normalized \n",
    "                       + (np.random.standard_normal(\n",
    "                           segy_data_img_normalized.shape)\n",
    "                          * stddev_noise\n",
    "                          + mean_noise))\n",
    "                    "
   ]
  },
  {
   "cell_type": "code",
   "execution_count": null,
   "metadata": {
    "collapsed": false
   },
   "outputs": [],
   "source": [
    "plt.subplot(121)\n",
    "\n",
    "plt.imshow(segy_data_img_normalized, aspect='auto', cmap='gray')\n",
    "plt.colorbar()\n",
    "plt.xlabel('Common Midpoint Index')\n",
    "plt.ylabel('Time Sample Index')\n",
    "plt.title('original normalized SGY image')\n",
    "\n",
    "plt.subplot(122)\n",
    "\n",
    "plt.imshow(segy_data_img_noisy, cmap='gray', aspect='auto')\n",
    "plt.colorbar()\n",
    "plt.xlabel('Common Midpoint Index')\n",
    "plt.ylabel('Time Sample Index')\n",
    "plt.title('original image with i.i.d Normal($\\mu = ${}, $\\sigma = ${}) noise added at each pixel'\n",
    "         .format(mean_noise, stddev_noise))\n"
   ]
  },
  {
   "cell_type": "code",
   "execution_count": null,
   "metadata": {
    "collapsed": false
   },
   "outputs": [],
   "source": [
    "plt.imsave('/home/giuliano/quake-n-code/experiment0/inputs/noisy-sunset.png', segy_data_img_noisy, cmap='gray')"
   ]
  },
  {
   "cell_type": "code",
   "execution_count": null,
   "metadata": {
    "collapsed": true
   },
   "outputs": [],
   "source": []
  },
  {
   "cell_type": "markdown",
   "metadata": {
    "collapsed": true
   },
   "source": [
    "## Let's have a look at the results of classified noisy images"
   ]
  },
  {
   "cell_type": "markdown",
   "metadata": {
    "collapsed": true
   },
   "source": [
    "Noisy images were generated with the following command:"
   ]
  },
  {
   "cell_type": "code",
   "execution_count": null,
   "metadata": {
    "collapsed": false
   },
   "outputs": [],
   "source": [
    "!segyread tape='../inputs/sunset-stacked.sgy' | segyclean | suaddnoise -sn=0.5 > /tmp/example-noisy-sunset.su"
   ]
  },
  {
   "cell_type": "code",
   "execution_count": null,
   "metadata": {
    "collapsed": true
   },
   "outputs": [],
   "source": []
  },
  {
   "cell_type": "code",
   "execution_count": null,
   "metadata": {
    "collapsed": true
   },
   "outputs": [],
   "source": []
  },
  {
   "cell_type": "code",
   "execution_count": null,
   "metadata": {
    "collapsed": true
   },
   "outputs": [],
   "source": []
  },
  {
   "cell_type": "code",
   "execution_count": null,
   "metadata": {
    "collapsed": true
   },
   "outputs": [],
   "source": []
  },
  {
   "cell_type": "code",
   "execution_count": null,
   "metadata": {
    "collapsed": true
   },
   "outputs": [],
   "source": []
  },
  {
   "cell_type": "code",
   "execution_count": null,
   "metadata": {
    "collapsed": true
   },
   "outputs": [],
   "source": []
  },
  {
   "cell_type": "code",
   "execution_count": null,
   "metadata": {
    "collapsed": true
   },
   "outputs": [],
   "source": []
  },
  {
   "cell_type": "code",
   "execution_count": null,
   "metadata": {
    "collapsed": true
   },
   "outputs": [],
   "source": []
  },
  {
   "cell_type": "code",
   "execution_count": null,
   "metadata": {
    "collapsed": true
   },
   "outputs": [],
   "source": []
  },
  {
   "cell_type": "code",
   "execution_count": null,
   "metadata": {
    "collapsed": true
   },
   "outputs": [],
   "source": []
  },
  {
   "cell_type": "code",
   "execution_count": null,
   "metadata": {
    "collapsed": true
   },
   "outputs": [],
   "source": []
  },
  {
   "cell_type": "code",
   "execution_count": null,
   "metadata": {
    "collapsed": true
   },
   "outputs": [],
   "source": []
  },
  {
   "cell_type": "markdown",
   "metadata": {
    "collapsed": true
   },
   "source": [
    "## Fire up a Tkinter interface to play with some image parameters (probability display thresholds, for example)"
   ]
  },
  {
   "cell_type": "code",
   "execution_count": null,
   "metadata": {
    "collapsed": true
   },
   "outputs": [],
   "source": [
    "import PIL"
   ]
  },
  {
   "cell_type": "code",
   "execution_count": null,
   "metadata": {
    "collapsed": false
   },
   "outputs": [],
   "source": [
    "import tkinter as tk"
   ]
  },
  {
   "cell_type": "code",
   "execution_count": null,
   "metadata": {
    "collapsed": true
   },
   "outputs": [],
   "source": [
    "root = tk.Tk() # owns all the other widgets"
   ]
  },
  {
   "cell_type": "code",
   "execution_count": null,
   "metadata": {
    "collapsed": false
   },
   "outputs": [],
   "source": [
    "prob_window17.shape"
   ]
  },
  {
   "cell_type": "code",
   "execution_count": null,
   "metadata": {
    "collapsed": false
   },
   "outputs": [],
   "source": [
    "display_img = PIL.Image.fromarray(prob_window17, mode='F')"
   ]
  },
  {
   "cell_type": "code",
   "execution_count": null,
   "metadata": {
    "collapsed": false
   },
   "outputs": [],
   "source": [
    "#canv = tk.Canvas(root, width=800, height=600)\n",
    "#canv.pack()\n",
    "\n",
    "\n"
   ]
  },
  {
   "cell_type": "code",
   "execution_count": null,
   "metadata": {
    "collapsed": true
   },
   "outputs": [],
   "source": [
    "photo = tk.PhotoImage()"
   ]
  },
  {
   "cell_type": "code",
   "execution_count": null,
   "metadata": {
    "collapsed": true
   },
   "outputs": [],
   "source": []
  },
  {
   "cell_type": "code",
   "execution_count": null,
   "metadata": {
    "collapsed": false
   },
   "outputs": [],
   "source": [
    "#canv.create_line(0, 0, 800, 600)\n",
    "canv.create_image?"
   ]
  },
  {
   "cell_type": "code",
   "execution_count": null,
   "metadata": {
    "collapsed": true
   },
   "outputs": [],
   "source": [
    "tk.mainloop()"
   ]
  },
  {
   "cell_type": "code",
   "execution_count": null,
   "metadata": {
    "collapsed": true
   },
   "outputs": [],
   "source": []
  },
  {
   "cell_type": "code",
   "execution_count": null,
   "metadata": {
    "collapsed": true
   },
   "outputs": [],
   "source": []
  },
  {
   "cell_type": "code",
   "execution_count": null,
   "metadata": {
    "collapsed": true
   },
   "outputs": [],
   "source": []
  },
  {
   "cell_type": "code",
   "execution_count": null,
   "metadata": {
    "collapsed": true
   },
   "outputs": [],
   "source": []
  },
  {
   "cell_type": "code",
   "execution_count": null,
   "metadata": {
    "collapsed": true
   },
   "outputs": [],
   "source": []
  },
  {
   "cell_type": "markdown",
   "metadata": {},
   "source": [
    "## Matplotlib figure animation example"
   ]
  },
  {
   "cell_type": "code",
   "execution_count": null,
   "metadata": {
    "collapsed": true
   },
   "outputs": [],
   "source": [
    "import matplotlib.animation as animation"
   ]
  },
  {
   "cell_type": "code",
   "execution_count": null,
   "metadata": {
    "collapsed": false
   },
   "outputs": [],
   "source": [
    "fig = plt.figure()\n",
    "\n",
    "\n",
    "def f(x, y):\n",
    "    return np.sin(x) + np.cos(y)\n",
    "\n",
    "x = np.linspace(0, 2 * np.pi, 120)\n",
    "y = np.linspace(0, 2 * np.pi, 100).reshape(-1, 1)\n",
    "\n",
    "im = plt.imshow(f(x, y), cmap='gray', animated=True)\n",
    "\n",
    "\n",
    "def updatefig(*args):\n",
    "    global x, y\n",
    "    x += np.pi / 15.\n",
    "    y += np.pi / 20.\n",
    "    im.set_array(f(x, y))\n",
    "    return im,\n",
    "\n",
    "ani = animation.FuncAnimation(fig, updatefig, interval=50, blit=True)\n",
    "plt.show()"
   ]
  },
  {
   "cell_type": "code",
   "execution_count": null,
   "metadata": {
    "collapsed": true
   },
   "outputs": [],
   "source": []
  },
  {
   "cell_type": "code",
   "execution_count": null,
   "metadata": {
    "collapsed": true
   },
   "outputs": [],
   "source": []
  },
  {
   "cell_type": "code",
   "execution_count": null,
   "metadata": {
    "collapsed": true
   },
   "outputs": [],
   "source": []
  },
  {
   "cell_type": "code",
   "execution_count": null,
   "metadata": {
    "collapsed": true
   },
   "outputs": [],
   "source": []
  },
  {
   "cell_type": "code",
   "execution_count": null,
   "metadata": {
    "collapsed": true
   },
   "outputs": [],
   "source": []
  }
 ],
 "metadata": {
  "kernelspec": {
   "display_name": "Python 3",
   "language": "python",
   "name": "python3"
  },
  "language_info": {
   "codemirror_mode": {
    "name": "ipython",
    "version": 3
   },
   "file_extension": ".py",
   "mimetype": "text/x-python",
   "name": "python",
   "nbconvert_exporter": "python",
   "pygments_lexer": "ipython3",
   "version": "3.6.0"
  }
 },
 "nbformat": 4,
 "nbformat_minor": 2
}
