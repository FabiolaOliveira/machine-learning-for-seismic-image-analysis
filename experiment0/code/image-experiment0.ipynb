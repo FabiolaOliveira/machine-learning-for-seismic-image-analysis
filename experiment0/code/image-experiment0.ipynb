{
 "cells": [
  {
   "cell_type": "markdown",
   "metadata": {},
   "source": [
    "# Take an image (png) and subject it to \"*experiment 0*\""
   ]
  },
  {
   "cell_type": "code",
   "execution_count": 3,
   "metadata": {
    "collapsed": true
   },
   "outputs": [],
   "source": [
    "import matplotlib.pyplot as plt\n",
    "import numpy as np\n",
    "import pymei as pm\n",
    "\n",
    "import proj_utilities as proj"
   ]
  },
  {
   "cell_type": "code",
   "execution_count": 28,
   "metadata": {
    "collapsed": false
   },
   "outputs": [],
   "source": [
    "import importlib\n"
   ]
  },
  {
   "cell_type": "code",
   "execution_count": 29,
   "metadata": {
    "collapsed": false
   },
   "outputs": [
    {
     "data": {
      "text/plain": [
       "<module 'proj_utilities' from '/home/giuliano/ic/experiments/utilities/proj_utilities.py'>"
      ]
     },
     "execution_count": 29,
     "metadata": {},
     "output_type": "execute_result"
    }
   ],
   "source": [
    "importlib.reload(proj)"
   ]
  },
  {
   "cell_type": "code",
   "execution_count": 6,
   "metadata": {
    "collapsed": false
   },
   "outputs": [
    {
     "name": "stdout",
     "output_type": "stream",
     "text": [
      "Using matplotlib backend: Qt5Agg\n"
     ]
    }
   ],
   "source": [
    "%matplotlib"
   ]
  },
  {
   "cell_type": "code",
   "execution_count": 41,
   "metadata": {
    "collapsed": false
   },
   "outputs": [
    {
     "name": "stdout",
     "output_type": "stream",
     "text": [
      "compare_constrast_stacksu_and_sunsetsgy.png  README\r\n",
      "event-points.json\t\t\t     stack.su\r\n",
      "noevent-points.json\t\t\t     sunset-seismic_normalized.png\r\n",
      "noisy-sunset-images\t\t\t     sunset-seismic.png\r\n",
      "noisy-sunset.png\t\t\t     sunset-stacked.sgy\r\n",
      "original-event-points\t\t\t     sunset_with_picks.png\r\n",
      "original-noevent-points\r\n"
     ]
    }
   ],
   "source": [
    "!ls ../inputs/"
   ]
  },
  {
   "cell_type": "code",
   "execution_count": 12,
   "metadata": {
    "collapsed": true
   },
   "outputs": [],
   "source": [
    "traces, sunset_img = proj.load_seismic_image(filename='../inputs/sunset-stacked.sgy')"
   ]
  },
  {
   "cell_type": "code",
   "execution_count": 10,
   "metadata": {
    "collapsed": false
   },
   "outputs": [
    {
     "data": {
      "text/plain": [
       "<matplotlib.colorbar.Colorbar at 0x7fddd81a70f0>"
      ]
     },
     "execution_count": 10,
     "metadata": {},
     "output_type": "execute_result"
    }
   ],
   "source": [
    "plt.imshow(sunset_img, aspect='auto')\n",
    "plt.colorbar()"
   ]
  },
  {
   "cell_type": "code",
   "execution_count": 13,
   "metadata": {
    "collapsed": true
   },
   "outputs": [],
   "source": [
    "traces2, sunset_img2 = proj.load_seismic_image(filename='../inputs/stack.su')"
   ]
  },
  {
   "cell_type": "code",
   "execution_count": 34,
   "metadata": {
    "collapsed": true
   },
   "outputs": [],
   "source": [
    "vmax = np.abs(np.max(sunset_img))\n",
    "vmin = -vmax"
   ]
  },
  {
   "cell_type": "code",
   "execution_count": 26,
   "metadata": {
    "collapsed": false
   },
   "outputs": [],
   "source": [
    "\n",
    "fig = plt.figure(figsize=(19,10), dpi=100)\n",
    "\n",
    "plt.subplot(121)\n",
    "\n",
    "plt.title('sunset-stacked.sgy (we use this one as the basis of experiment0)')\n",
    "plt.imshow(sunset_img, aspect='auto')\n",
    "plt.colorbar()\n",
    "\n",
    "plt.subplot(122)\n",
    "\n",
    "plt.title('stack.su (but also take a look at this...)')\n",
    "plt.imshow(sunset_img2, aspect='auto')\n",
    "plt.colorbar()\n",
    "\n"
   ]
  },
  {
   "cell_type": "code",
   "execution_count": 30,
   "metadata": {
    "collapsed": true
   },
   "outputs": [],
   "source": [
    "no_event_picks = proj.load_seismic_picks_json_format('../inputs/noevent-points.json')"
   ]
  },
  {
   "cell_type": "code",
   "execution_count": 31,
   "metadata": {
    "collapsed": true
   },
   "outputs": [],
   "source": [
    "event_picks = proj.load_seismic_picks_json_format('../inputs/event-points.json')"
   ]
  },
  {
   "cell_type": "code",
   "execution_count": 32,
   "metadata": {
    "collapsed": false
   },
   "outputs": [
    {
     "data": {
      "text/plain": [
       "[[297, 114],\n",
       " [689, 121],\n",
       " [1040, 131],\n",
       " [542, 143],\n",
       " [815, 152],\n",
       " [1120, 164],\n",
       " [1267, 178],\n",
       " [259, 187],\n",
       " [1044, 201],\n",
       " [588, 204],\n",
       " [829, 219],\n",
       " [265, 230],\n",
       " [1297, 232],\n",
       " [689, 253],\n",
       " [145, 266],\n",
       " [673, 278],\n",
       " [1433, 279],\n",
       " [486, 289],\n",
       " [1293, 293]]"
      ]
     },
     "execution_count": 32,
     "metadata": {},
     "output_type": "execute_result"
    }
   ],
   "source": [
    "no_event_picks"
   ]
  },
  {
   "cell_type": "code",
   "execution_count": 33,
   "metadata": {
    "collapsed": false
   },
   "outputs": [
    {
     "data": {
      "text/plain": [
       "[[511, 109],\n",
       " [904, 116],\n",
       " [512, 150],\n",
       " [1099, 161],\n",
       " [958, 162],\n",
       " [1090, 170],\n",
       " [1080, 185],\n",
       " [1078, 197],\n",
       " [511, 200],\n",
       " [1082, 206],\n",
       " [1011, 207],\n",
       " [1103, 226],\n",
       " [1123, 238],\n",
       " [509, 240],\n",
       " [1156, 254],\n",
       " [1073, 259],\n",
       " [1103, 283],\n",
       " [511, 298]]"
      ]
     },
     "execution_count": 33,
     "metadata": {},
     "output_type": "execute_result"
    }
   ],
   "source": [
    "event_picks"
   ]
  },
  {
   "cell_type": "code",
   "execution_count": 39,
   "metadata": {
    "collapsed": true
   },
   "outputs": [],
   "source": [
    "no_event_trace_indices = np.array(no_event_picks)[:,1]\n",
    "event_trace_indices = np.array(event_picks)[:,1]\n",
    "no_event_timesample_indices = np.array(no_event_picks)[:,0]\n",
    "event_timesample_indices = np.array(event_picks)[:,0]"
   ]
  },
  {
   "cell_type": "code",
   "execution_count": 40,
   "metadata": {
    "collapsed": false
   },
   "outputs": [
    {
     "data": {
      "text/plain": [
       "<matplotlib.text.Text at 0x7fddc45f9a58>"
      ]
     },
     "execution_count": 40,
     "metadata": {},
     "output_type": "execute_result"
    }
   ],
   "source": [
    "# display the image with the picks for sanity checking\n",
    "plt.imshow(sunset_img, cmap='seismic', vmin=vmin, vmax=vmax, aspect='auto')\n",
    "plt.colorbar()\n",
    "\n",
    "plt.scatter(no_event_trace_indices, no_event_timesample_indices, c='b', marker='x', label='no event picks')\n",
    "plt.scatter(event_trace_indices, event_timesample_indices, c='r', marker='x', label='event picks')\n",
    "\n",
    "plt.xlabel('Common Midpoint Index')\n",
    "plt.ylabel('Time Sample Index')\n",
    "plt.legend(loc='lower left')\n",
    "plt.title('synthetic \"sunset\" image with event and non-event picks')\n",
    "\n",
    "#plt.colorbar()\n",
    "\n",
    "#plt.axis([0, segy_data_img.shape[1], 0, 500])"
   ]
  },
  {
   "cell_type": "code",
   "execution_count": 44,
   "metadata": {
    "collapsed": false
   },
   "outputs": [],
   "source": [
    "import pandas as pd"
   ]
  },
  {
   "cell_type": "code",
   "execution_count": 58,
   "metadata": {
    "collapsed": false
   },
   "outputs": [],
   "source": [
    "sunset_series = pd.Series(sunset_img.ravel())"
   ]
  },
  {
   "cell_type": "code",
   "execution_count": 59,
   "metadata": {
    "collapsed": false
   },
   "outputs": [
    {
     "data": {
      "text/plain": [
       "count    1.110888e+06\n",
       "mean     2.629753e-06\n",
       "std      6.390718e-05\n",
       "min     -5.645438e-04\n",
       "0%      -5.645438e-04\n",
       "11.1%    0.000000e+00\n",
       "22.2%    0.000000e+00\n",
       "33.3%    0.000000e+00\n",
       "44.4%    0.000000e+00\n",
       "50%      0.000000e+00\n",
       "55.6%    0.000000e+00\n",
       "66.7%    0.000000e+00\n",
       "77.8%    0.000000e+00\n",
       "88.9%    0.000000e+00\n",
       "100%     1.913861e-03\n",
       "max      1.913861e-03\n",
       "dtype: float64"
      ]
     },
     "execution_count": 59,
     "metadata": {},
     "output_type": "execute_result"
    }
   ],
   "source": [
    "sunset_series.describe(list(np.linspace(0,1,10)))"
   ]
  },
  {
   "cell_type": "code",
   "execution_count": 60,
   "metadata": {
    "collapsed": true
   },
   "outputs": [],
   "source": [
    "from scipy.misc import imsave, imshow, imread"
   ]
  },
  {
   "cell_type": "code",
   "execution_count": 61,
   "metadata": {
    "collapsed": true
   },
   "outputs": [],
   "source": [
    "imsave('../inputs/sunset-gray-scipy.png', sunset_img)"
   ]
  },
  {
   "cell_type": "code",
   "execution_count": 69,
   "metadata": {
    "collapsed": true
   },
   "outputs": [],
   "source": [
    "sunset_gray_scipy_img = imread('../inputs/sunset-gray-scipy.png')"
   ]
  },
  {
   "cell_type": "code",
   "execution_count": 63,
   "metadata": {
    "collapsed": true
   },
   "outputs": [],
   "source": [
    "# funky little 'image magicks' backend - the force is strong with this one\n",
    "imshow(sunset_gray_scipy_img)"
   ]
  },
  {
   "cell_type": "code",
   "execution_count": 70,
   "metadata": {
    "collapsed": false
   },
   "outputs": [
    {
     "data": {
      "text/plain": [
       "array([[ 58.,  58.,  58., ...,  58.,  58.,  58.],\n",
       "       [ 58.,  58.,  58., ...,  58.,  58.,  58.],\n",
       "       [ 58.,  58.,  58., ...,  58.,  58.,  58.],\n",
       "       ..., \n",
       "       [ 58.,  58.,  58., ...,  58.,  58.,  58.],\n",
       "       [ 58.,  58.,  58., ...,  58.,  58.,  58.],\n",
       "       [ 58.,  58.,  58., ...,  58.,  58.,  58.]], dtype=float32)"
      ]
     },
     "execution_count": 70,
     "metadata": {},
     "output_type": "execute_result"
    }
   ],
   "source": [
    "sunset_gray_scipy_img"
   ]
  },
  {
   "cell_type": "code",
   "execution_count": 71,
   "metadata": {
    "collapsed": false
   },
   "outputs": [
    {
     "data": {
      "text/plain": [
       "<matplotlib.colorbar.Colorbar at 0x7fddc71ffcf8>"
      ]
     },
     "execution_count": 71,
     "metadata": {},
     "output_type": "execute_result"
    }
   ],
   "source": [
    "plt.imshow(sunset_gray_scipy_img, cmap='gray', aspect='auto')\n",
    "plt.colorbar()"
   ]
  },
  {
   "cell_type": "code",
   "execution_count": null,
   "metadata": {
    "collapsed": true
   },
   "outputs": [],
   "source": []
  }
 ],
 "metadata": {
  "kernelspec": {
   "display_name": "Python 3",
   "language": "python",
   "name": "python3"
  },
  "language_info": {
   "codemirror_mode": {
    "name": "ipython",
    "version": 3
   },
   "file_extension": ".py",
   "mimetype": "text/x-python",
   "name": "python",
   "nbconvert_exporter": "python",
   "pygments_lexer": "ipython3",
   "version": "3.6.0"
  }
 },
 "nbformat": 4,
 "nbformat_minor": 2
}
