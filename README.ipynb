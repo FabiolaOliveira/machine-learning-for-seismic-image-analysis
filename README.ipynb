{
 "cells": [
  {
   "cell_type": "markdown",
   "metadata": {},
   "source": [
    "# Automation of Exploratory Geophysics Tasks with the Use of Machine Learning\n",
    "\n",
    "## Abstract\n",
    "\n",
    "A indústria da exploração, extração, transporte, refino e distribuição do petróleo e seus derivados é um segmento chave da economia do qual diversos outros setores dependem direta ou indiretamente, desde a indústria automotiva até a agricultura. Apesar das consequências ambientais do seu uso, não resta dúvida de que manteremos um alto grau de dependência em relação ao petróleo por no mínimo várias décadas. À medida que os reservatórios de mais fácil alcance se esgotem, torna-se cada vez mais importante desenvolver e aperfeiçoar técnicas sofisticadas para detectar novas fontes de petróleo e gás. A técnica de imageamento do subsolo mais utilizada hoje é o estudo de reflexão sísmica, que permite gerar estimativas do rendimento econômico de um reservatório sem a necessidade de um trabalho caro de perfuração. Para interpretar a massa de dados obtidos através desse estudo, é necessário empregar um batalhão de geofísicos. O objetivo desse projeto é justamente produzir ferramentas de software que auxiliem o trabalho de interpretação desses geofísicos, por exemplo, na detecção de interfaces entre tipos distintos de rocha numa imagem sísmica. Para lograr essa tarefa, pretendemos colocar em campo desde técnicas consagradas, como algoritmos de detecção de arestas numa imagem, até técnicas de ponta, como o treinamento de redes neurais convolucionais profundas. Isso será feito através de uma metodologia de prototipagem rápida de software, com feedback constante da equipe de geofísicos especializados do Grupo de Geofísica Aplicada do CEPETRO na Unicamp. Testaremos várias técnicas e desenvolveremos várias ferramentas para permitir que os geofísicos avaliem rapidamente qual é o caminho mais eficaz, dessa forma guiando nosso trabalho.\n",
    "\n",
    "## Project Best Practices\n",
    "\n",
    "* README in every (non trivial) directory\n",
    "\t* README contains a description and a manifest for a directory tree\n",
    "\n",
    "* Version control via Git.\n",
    "\t* Open source software on Github\n",
    "    * Use of .gitignore to avoid clutter. Only add files that belong to the manifest. Don't add humongous image folders\n",
    "\n",
    "* Progress through rapid experimental prototyping\n",
    "    * Recommended: Anaconda distribution, Python 3\n",
    "    * Python scientific tools: numpy, matplotlib, scipy - even powerful libraries like OpenCV and TensorFlow are available via a *pip* or *conda* install\n",
    "    * Create self-documenting software\n",
    "        * Literate programming via Jupyter Notebook\n",
    "        * Experimental protyping via Jupyter Notebook\n",
    "        * Subsequent refactoring into reusable functional units with well specified interfaces\n",
    "        * For longer tasks, like an end-to-end automated execution of *experiment0*, a script is necessary. The script is a natural consequence of the refactoring of the work previously run, over bits and pieces, through Jupyter Notebook\n",
    "        * Well documented docstrings for modules, classes and functions. Example: numpy repository. Parameters, returns, description, any gotchas.\n",
    "        * Scripts should use the argparse interface\n",
    "        * EVERY BIT OF TRICKINESS IN CODE SHOULD BE COMMENTED. Trickyness should be isolated in modules with well specified, commented, and non-leaky interfaces\n",
    "        * verbose filenames seem to pay for themselves: name of experimental run, timestamp. They should be listed in the manifest (README) anyway\n",
    "\n",
    "* Project structure\n",
    "    * Experiments\n",
    "        * code folder\n",
    "            * scripts, notebooks, etc\n",
    "        * inputs folder\n",
    "            * Images, labels, etc\n",
    "        * output folder\n",
    "            * Images, etc.\n",
    "        * results folder\n",
    "            * Figures, observations, etc.\n",
    "        * logs\n",
    "            * scripts should do logging\n",
    "    * utilities\n",
    "         * refactored code that becomes a reusable component with a well specified, well documented interface\n",
    "         * legacy scripts\n",
    "\n",
    "\n",
    "        \n",
    "    \n",
    "\n",
    "\t\n"
   ]
  },
  {
   "cell_type": "code",
   "execution_count": null,
   "metadata": {
    "collapsed": true
   },
   "outputs": [],
   "source": []
  }
 ],
 "metadata": {
  "kernelspec": {
   "display_name": "Python 3",
   "language": "python",
   "name": "python3"
  },
  "language_info": {
   "codemirror_mode": {
    "name": "ipython",
    "version": 3
   },
   "file_extension": ".py",
   "mimetype": "text/x-python",
   "name": "python",
   "nbconvert_exporter": "python",
   "pygments_lexer": "ipython3",
   "version": "3.6.0"
  }
 },
 "nbformat": 4,
 "nbformat_minor": 2
}
